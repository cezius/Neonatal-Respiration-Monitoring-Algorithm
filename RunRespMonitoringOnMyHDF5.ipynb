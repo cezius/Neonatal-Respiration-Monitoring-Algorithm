{
  "nbformat": 4,
  "nbformat_minor": 0,
  "metadata": {
    "colab": {
      "name": "RunRespMonitoringOnMyHDF5.ipynb",
      "provenance": [],
      "collapsed_sections": []
    },
    "kernelspec": {
      "name": "python3",
      "display_name": "Python 3"
    },
    "language_info": {
      "name": "python"
    },
    "accelerator": "GPU"
  },
  "cells": [
    {
      "cell_type": "code",
      "execution_count": null,
      "metadata": {
        "id": "4PCiUYmp3zir",
        "colab": {
          "base_uri": "https://localhost:8080/"
        },
        "outputId": "ba29580d-91c7-40a9-9f1c-3f264dab96fe"
      },
      "outputs": [
        {
          "output_type": "stream",
          "name": "stdout",
          "text": [
            "Drive already mounted at /content/drive; to attempt to forcibly remount, call drive.mount(\"/content/drive\", force_remount=True).\n"
          ]
        }
      ],
      "source": [
        "import os\n",
        "from google.colab import drive\n",
        "drive.mount('/content/drive')\n",
        "os.chdir(\"/content/drive/My Drive/RunRespMonitoringOnHDF5\")"
      ]
    },
    {
      "cell_type": "markdown",
      "source": [
        "# Imports"
      ],
      "metadata": {
        "id": "ZAffNrxW5Rlb"
      }
    },
    {
      "cell_type": "code",
      "source": [
        "'''\n",
        "import basic packages\n",
        "'''\n",
        "import cv2\n",
        "import torch\n",
        "import numpy as np\n",
        "import matplotlib.pyplot as plt"
      ],
      "metadata": {
        "id": "Gf3J1DOc4V-G"
      },
      "execution_count": null,
      "outputs": []
    },
    {
      "cell_type": "code",
      "source": [
        "'''\n",
        "import packages from local files\n",
        "'''\n",
        "from HDF5_methods import unpackHDF5\n",
        "from HDF5_methods import getAllLabels\n",
        "from HDF5_methods import unpackMyHDF5File\n",
        "\n",
        "from ROI_Detection.ManualUNET import hd_dt\n",
        "from ROI_Detection.ManualUNET import conv2d_block\n",
        "from ROI_Detection.ManualUNET import get_unet\n",
        "\n",
        "from ROI_Detection.AutomaticUNET import UNET\n",
        "from ROI_Detection.AutomaticUNET import processOuput\n",
        "from ROI_Detection.AutomaticUNET import callAutomaticUNET\n",
        "\n",
        "from Resp_Calculation.RespRateCalculator_methods import calc_rep\n",
        "from Resp_Calculation.RespRateCalculator_methods import calcLenght\n",
        "\n",
        "from Resp_Calculation.RespRate_methods import calcRates_with_findLocalMaximas\n",
        "from Resp_Calculation.RespRate_methods import calcRates_with_calcRate\n",
        "from Resp_Calculation.RespRate_methods import calcRates_with_FFT\n",
        "from Resp_Calculation.RespRate_methods import calcRates_with_findLocalMaximas_and_MA\n",
        "from Resp_Calculation.RespRate_methods import calcRates_with_calcRate_and_MA\n",
        "from Resp_Calculation.RespRate_methods import calcRates_with_FFT_and_MA\n",
        "from Resp_Calculation.RespRate_methods import RMSE\n",
        "from Resp_Calculation.RespRate_methods import reshapeSignal\n",
        "from Resp_Calculation.RespRate_methods import reshapeReference"
      ],
      "metadata": {
        "id": "XE7twxb64-AO"
      },
      "execution_count": null,
      "outputs": []
    },
    {
      "cell_type": "markdown",
      "source": [
        "# Parameters"
      ],
      "metadata": {
        "id": "7MLWC3zO5S9D"
      }
    },
    {
      "cell_type": "code",
      "source": [
        "'''\n",
        "Set basic parameters\n",
        "'''\n",
        "FILENAME = '../Measurements/Meas4.hdf5'\n",
        "wh = 150 # width-height: The size of image which size we will resize images to (wh x wh)\n",
        "ws = 200 # length or Size of the sliding-Window\n",
        "FPS = 20 # Sampling frequency of the camera\n",
        "im_width = 500 # initial image-width for manual-unet\n",
        "im_height = 500 # initial image-height for manual-unet\n",
        "downscale_coeff = 2 \n",
        "length_of_win_of_frames = 200 # The length of the sliding window, we are using in the calculatio of respiration rates. (This length is the same as the one that is used by the Philips IntelliVue MP20/MP50 monitors that provided the reference data for us.)\n",
        "\n",
        "'''\n",
        "ROI detector related parameters\n",
        "'''\n",
        "# how many frames, two ROI-calculation are apart from each other\n",
        "UNET_usage_frequency = 100\n",
        "\n",
        "# Bolean: use the \"UNET based roi detector\" or not\n",
        "use_roi_detector = True\n",
        "\n",
        "# Boolean: Use the manual unet or the ALA based one\n",
        "use_manual = True"
      ],
      "metadata": {
        "id": "fMyEK_Nx5Lyf"
      },
      "execution_count": null,
      "outputs": []
    },
    {
      "cell_type": "markdown",
      "source": [
        "# Load HDF5\n"
      ],
      "metadata": {
        "id": "RB6bCmL35iGg"
      }
    },
    {
      "cell_type": "code",
      "source": [
        "# unpack frames, labels and results from hdf5\n",
        "frames, labels = unpackMyHDF5File(FILENAME)\n",
        "# unpack labels, the numerical labels more exactly the respiration rates\n",
        "RespirationNumerical = labels[5]"
      ],
      "metadata": {
        "id": "cnzv-ri9kdRB"
      },
      "execution_count": null,
      "outputs": []
    },
    {
      "cell_type": "code",
      "source": [
        "# check the length of parts of my dataset\n",
        "print(len(frames))\n",
        "print(len(RespirationNumerical))"
      ],
      "metadata": {
        "id": "UTDOcJkve_b5"
      },
      "execution_count": null,
      "outputs": []
    },
    {
      "cell_type": "code",
      "source": [
        "'''\n",
        "Check the first frame\n",
        "'''\n",
        "frame = frames[0]\n",
        "plt.imshow((frame).astype('uint8'))"
      ],
      "metadata": {
        "id": "lniiOFt6niTw"
      },
      "execution_count": null,
      "outputs": []
    },
    {
      "cell_type": "markdown",
      "source": [
        "# Define ManualUNET"
      ],
      "metadata": {
        "id": "6qrW1jBdKF2T"
      }
    },
    {
      "cell_type": "code",
      "source": [
        "# get the manual unet\n",
        "from keras.layers import Input\n",
        "input_img = Input((int(im_height/downscale_coeff), int(im_width/downscale_coeff), 3), name='img')\n",
        "model = get_unet(input_img, n_filters=int(15), dropout=0.00, batchnorm=True)"
      ],
      "metadata": {
        "id": "UbzpvRVNMoNX"
      },
      "execution_count": null,
      "outputs": []
    },
    {
      "cell_type": "code",
      "source": [
        "# load parameters\n",
        "model_name = '../lhs_model14.h5'\n",
        "model.load_weights(model_name)"
      ],
      "metadata": {
        "id": "E2UEZGdrW9Xt"
      },
      "execution_count": null,
      "outputs": []
    },
    {
      "cell_type": "markdown",
      "source": [
        "# Try to run ManualUNET"
      ],
      "metadata": {
        "id": "NtT8oYPkNw3_"
      }
    },
    {
      "cell_type": "code",
      "source": [
        "def callManualUNET(img):\n",
        "  img = cv2.resize(img,(250,250))\n",
        "  batch = [np.cast['float32']((img/np.max(img)))]\n",
        "  batch = np.asarray(batch)\n",
        "\n",
        "  im = np.reshape(batch,[1,250,250,3])\n",
        "  preds_im = model.predict(im, verbose=1)\n",
        "  predicted = preds_im[0,:,:,0]\n",
        "  preds_im = cv2.resize(predicted,(wh,wh))\n",
        "  return preds_im"
      ],
      "metadata": {
        "id": "XB30XpVsJ7fg"
      },
      "execution_count": null,
      "outputs": []
    },
    {
      "cell_type": "code",
      "source": [
        "img = frames[0]\n",
        "preds_im = callManualUNET(img)\n",
        "plt.imshow(preds_im)"
      ],
      "metadata": {
        "id": "nbzAmyZHW1t5"
      },
      "execution_count": null,
      "outputs": []
    },
    {
      "cell_type": "markdown",
      "source": [
        "# Define AutomaticUNET"
      ],
      "metadata": {
        "id": "Pp9BGZHLNyN0"
      }
    },
    {
      "cell_type": "code",
      "source": [
        "dev = torch.device(\"cuda:0\")"
      ],
      "metadata": {
        "id": "RdrHwofENnnn"
      },
      "execution_count": null,
      "outputs": []
    },
    {
      "cell_type": "code",
      "source": [
        "net = UNET(3,3).to(dev)"
      ],
      "metadata": {
        "id": "7ozehiuCOAQg"
      },
      "execution_count": null,
      "outputs": []
    },
    {
      "cell_type": "code",
      "source": [
        "net.load_state_dict(torch.load(\"../checkpoints/autoAnnotation1_150x150_4_mely_nagyobb_kernelek-UNET_version-0073.pth\"))"
      ],
      "metadata": {
        "id": "kYsfprI3Of9o"
      },
      "execution_count": null,
      "outputs": []
    },
    {
      "cell_type": "markdown",
      "source": [
        "# Try to run AutomaticUNET"
      ],
      "metadata": {
        "id": "cJs4fWLqOO89"
      }
    },
    {
      "cell_type": "code",
      "source": [
        "img = frames[0]\n",
        "processed_mask = callAutomaticUNET(img,wh,net,dev)"
      ],
      "metadata": {
        "id": "N_SAbjUKOOai"
      },
      "execution_count": null,
      "outputs": []
    },
    {
      "cell_type": "code",
      "source": [
        "plt.imshow(processed_mask)\n",
        "plt.colorbar()"
      ],
      "metadata": {
        "id": "-_QAbfU8gGra"
      },
      "execution_count": null,
      "outputs": []
    },
    {
      "cell_type": "code",
      "source": [
        "img = np.cast['float32']((img/np.max(img)))\n",
        "img = cv2.cvtColor(img, cv2.COLOR_RGB2BGR)\n",
        "img = cv2.resize(img, (wh,wh))\n",
        "\n",
        "img[:,:,0]=img[:,:,0]*processed_mask\n",
        "img[:,:,1]=img[:,:,1]*processed_mask\n",
        "img[:,:,2]=img[:,:,2]*processed_mask\n",
        "plt.imshow(img)"
      ],
      "metadata": {
        "id": "IaqwP3E-XFYi"
      },
      "execution_count": null,
      "outputs": []
    },
    {
      "cell_type": "markdown",
      "source": [
        "# Initialization the parameters for the iterative running of respiration calculation"
      ],
      "metadata": {
        "id": "JpSBb4tvl8WG"
      }
    },
    {
      "cell_type": "code",
      "source": [
        "szamlalo = 0\n",
        "frame = frames[szamlalo]\n",
        "if use_manual:\n",
        "  roi = callManualUNET(img)\n",
        "else:\n",
        "  roi = callAutomaticUNET(frame)\n",
        "kernel = np.ones((5,5),np.uint8)\n",
        "first_frame = frames[szamlalo]\n",
        "first_frame = cv2.resize(first_frame, dsize=(wh,wh), interpolation=cv2.INTER_CUBIC)\n",
        "first_frame = np.cast['float32']((first_frame/np.max(first_frame)))\n",
        "prev_gray = cv2.cvtColor(first_frame, cv2.COLOR_BGR2GRAY)\n",
        "blurred = cv2.GaussianBlur(first_frame,(21,21),0)\n",
        "prvs = cv2.cvtColor(blurred,cv2.COLOR_BGR2GRAY)\n",
        "grad_prvs = cv2.morphologyEx(prvs, cv2.MORPH_GRADIENT, kernel)\n",
        "mask = np.zeros_like(first_frame)\n",
        "mask[..., 1] = 255\n",
        "hsv = np.zeros_like(first_frame)\n",
        "hsv[...,1] = 255\n",
        "datapoint = 0\n",
        "datapoint2 = 0\n",
        "unet_szamlalo = 0\n",
        "RespirationNumerical[1:]"
      ],
      "metadata": {
        "id": "JB8-orNQl_F8"
      },
      "execution_count": null,
      "outputs": []
    },
    {
      "cell_type": "markdown",
      "source": [
        "# Iterate over frames"
      ],
      "metadata": {
        "id": "0aztH1jn5ntw"
      }
    },
    {
      "cell_type": "code",
      "source": [
        "sliding_window_frames = []"
      ],
      "metadata": {
        "id": "S7fGTAgnc0uu"
      },
      "execution_count": null,
      "outputs": []
    },
    {
      "cell_type": "code",
      "source": [
        "with open(\"outputs/resp_wave/wave_with_unet0.txt\",\"w\") as o:\n",
        "  for i in range(len(frames)-1):\n",
        "    frame = frames[i]\n",
        "\n",
        "    if use_roi_detector:\n",
        "      # Calculate ROI (right after the frame selection)\n",
        "      if unet_szamlalo % UNET_usage_frequency==0:\n",
        "        roi = callAutomaticUNET(frame,wh,net,dev)\n",
        "\n",
        "    frame = cv2.resize(frame, dsize=(wh,wh), interpolation=cv2.INTER_CUBIC)\n",
        "    frame = np.cast['float32']((frame/np.max(frame)))\n",
        "\n",
        "    if use_roi_detector:\n",
        "      if frame is not None: \n",
        "        gray = cv2.cvtColor(frame, cv2.COLOR_BGR2GRAY)\n",
        "        flow = cv2.calcOpticalFlowFarneback(prev_gray, gray, None, 0.5, 3, 15, 3, 5, 1.2, 0)\n",
        "\n",
        "        flow[:,:,0] = flow[:,:,0]*roi\n",
        "        flow[:,:,1] = flow[:,:,1]*roi\n",
        "        datapoint = calc_rep(flow) / sum(roi.flatten())\n",
        "        datapoint2 = calcLenght(flow) / sum(roi.flatten())\n",
        "        ref = RespirationNumerical[szamlalo]\n",
        "        o.write(str(datapoint) + \" , \" + str(datapoint2) + \" , \" + str(ref[0]) + \"\\n\")\n",
        "    else:\n",
        "      if frame is not None: \n",
        "        gray = cv2.cvtColor(frame, cv2.COLOR_BGR2GRAY)\n",
        "        flow = cv2.calcOpticalFlowFarneback(prev_gray, gray, None, 0.5, 3, 15, 3, 5, 1.2, 0)\n",
        "\n",
        "        flow[:,:,0] = flow[:,:,0]\n",
        "        flow[:,:,1] = flow[:,:,1]\n",
        "        datapoint = calc_rep(flow)\n",
        "        datapoint2 = calcLenght(flow)\n",
        "        ref = RespirationNumerical[szamlalo]\n",
        "        print(szamlalo)\n",
        "        o.write(str(datapoint) + \" , \" + str(datapoint2) + \" , \" + str(ref[0]) + \"\\n\")\n",
        "\n",
        "\n",
        "    if (length_of_win_of_frames<len(sliding_window_frames)):\n",
        "        del sliding_window_frames[0]\n",
        "    sliding_window_frames.append(datapoint)\n",
        "\n",
        "    \n",
        "    unet_szamlalo = unet_szamlalo + 1\n",
        "    szamlalo = szamlalo + 1 "
      ],
      "metadata": {
        "id": "dmDGJWOnL_fu"
      },
      "execution_count": null,
      "outputs": []
    },
    {
      "cell_type": "markdown",
      "source": [
        "# Load the calculated Resp Wave"
      ],
      "metadata": {
        "id": "Xs5c_fZROvFD"
      }
    },
    {
      "cell_type": "code",
      "source": [
        "# load the content of wave_with_unet0.txt generated previously \n",
        "resp_sig = np.loadtxt(\"outputs/resp_wave/wave_with_unet0.txt\",delimiter=\",\")\n",
        "resp_sig = np.asarray(resp_sig)\n",
        "print(resp_sig.shape)"
      ],
      "metadata": {
        "id": "A3iiiMtLLgLn"
      },
      "execution_count": null,
      "outputs": []
    },
    {
      "cell_type": "code",
      "source": [
        "# read the wave-like respiration signal\n",
        "signal = resp_sig[:,0]\n",
        "print(signal.shape)"
      ],
      "metadata": {
        "id": "ixYk5nGjO_CT"
      },
      "execution_count": null,
      "outputs": []
    },
    {
      "cell_type": "code",
      "source": [
        "# read the referene signal (respiration rates)\n",
        "refflow = resp_sig[:,-1]\n",
        "print(refflow.shape)"
      ],
      "metadata": {
        "id": "O-c4w1xwwKnS"
      },
      "execution_count": null,
      "outputs": []
    },
    {
      "cell_type": "code",
      "source": [
        "# let's see an arbitrary part of the signal\n",
        "plt.plot(signal[4000:4600])"
      ],
      "metadata": {
        "colab": {
          "base_uri": "https://localhost:8080/",
          "height": 293
        },
        "id": "rdiecUpjQQpj",
        "outputId": "e8e5645a-1ee1-4b9f-be27-a6e31892ae00"
      },
      "execution_count": null,
      "outputs": [
        {
          "output_type": "execute_result",
          "data": {
            "text/plain": [
              "[<matplotlib.lines.Line2D at 0x7fbdb0a7fbd0>]"
            ]
          },
          "metadata": {},
          "execution_count": 58
        },
        {
          "output_type": "display_data",
          "data": {
            "image/png": "[encoded data removed]",
            "text/plain": [
              "<Figure size 432x288 with 1 Axes>"
            ]
          },
          "metadata": {
            "needs_background": "light"
          }
        }
      ]
    },
    {
      "cell_type": "markdown",
      "source": [
        "# Apply BandPassFilter on input signal"
      ],
      "metadata": {
        "id": "0eH3TgHAbJaI"
      }
    },
    {
      "cell_type": "code",
      "source": [
        "fs = 20.0 # sample rate\n",
        "\n",
        "# desired cutoff frequencies (in Hz):\n",
        "lowcut = 0.3\n",
        "highcut = 2"
      ],
      "metadata": {
        "id": "YUUpm1dVWsAj"
      },
      "execution_count": null,
      "outputs": []
    },
    {
      "cell_type": "code",
      "metadata": {
        "id": "FA6H0uFuYexr"
      },
      "source": [
        "from scipy.signal import butter, lfilter\n",
        "\n",
        "def butter_bandpass(lowcut, highcut, fs, order=5):\n",
        "    nyq = 0.5 * fs\n",
        "    low = lowcut / nyq\n",
        "    high = highcut / nyq\n",
        "    b, a = butter(order, [low, high], btype='band')\n",
        "    return b, a\n",
        "\n",
        "def butter_bandpass_filter(data, lowcut, highcut, fs, order=5):\n",
        "    b, a = butter_bandpass(lowcut, highcut, fs, order=order)\n",
        "    y = lfilter(b, a, data)\n",
        "    return y"
      ],
      "execution_count": null,
      "outputs": []
    },
    {
      "cell_type": "code",
      "source": [
        "filtered = butter_bandpass_filter(signal, lowcut, highcut, fs, order=6)"
      ],
      "metadata": {
        "id": "DoJEsx1xWZGk"
      },
      "execution_count": null,
      "outputs": []
    },
    {
      "cell_type": "code",
      "source": [
        "# let's see an arbitrary part of the signal after the band-pass filtering\n",
        "plt.plot(filtered[4000:4600])"
      ],
      "metadata": {
        "colab": {
          "base_uri": "https://localhost:8080/",
          "height": 293
        },
        "id": "7DDqKeWoWW_6",
        "outputId": "525e3c39-c442-4539-f02a-803ae1c8dc64"
      },
      "execution_count": null,
      "outputs": [
        {
          "output_type": "execute_result",
          "data": {
            "text/plain": [
              "[<matplotlib.lines.Line2D at 0x7fbdb0b03a90>]"
            ]
          },
          "metadata": {},
          "execution_count": 63
        },
        {
          "output_type": "display_data",
          "data": {
            "image/png": "[encoded data removed]",
            "text/plain": [
              "<Figure size 432x288 with 1 Axes>"
            ]
          },
          "metadata": {
            "needs_background": "light"
          }
        }
      ]
    },
    {
      "cell_type": "markdown",
      "metadata": {
        "id": "bQM3zzRZYl9l"
      },
      "source": [
        "# Reshape signals to [wd,wd]"
      ]
    },
    {
      "cell_type": "code",
      "metadata": {
        "id": "mwYE3eaQYtvb"
      },
      "source": [
        "optsignal = reshapeSignal(filtered)"
      ],
      "execution_count": null,
      "outputs": []
    },
    {
      "cell_type": "code",
      "source": [
        "reference = reshapeReference(refflow)"
      ],
      "metadata": {
        "id": "dN-Ct17PYhg-"
      },
      "execution_count": null,
      "outputs": []
    },
    {
      "cell_type": "markdown",
      "source": [
        "# Calculate Resp Rates"
      ],
      "metadata": {
        "id": "1M_npPiwauK-"
      }
    },
    {
      "cell_type": "code",
      "source": [
        "# Calc RespRates by findLocalMaximas\n",
        "diffRate_rates,refs = calcRates_with_findLocalMaximas(optsignal,reference)"
      ],
      "metadata": {
        "id": "2WgiMxGuap1l"
      },
      "execution_count": null,
      "outputs": []
    },
    {
      "cell_type": "code",
      "source": [
        "errors = []\n",
        "for i in range(len(diffRate_rates)):\n",
        "  errors.append(abs(diffRate_rates[i]-refs[i]))\n",
        "print(np.mean(errors))\n",
        "print(RMSE(diffRate_rates,refs))"
      ],
      "metadata": {
        "colab": {
          "base_uri": "https://localhost:8080/"
        },
        "id": "wj8Owf8gePn_",
        "outputId": "dd4fdd4f-1df6-43b9-c02b-4e0e1476ba30"
      },
      "execution_count": null,
      "outputs": [
        {
          "output_type": "stream",
          "name": "stdout",
          "text": [
            "2.589433674448948\n",
            "3.8255518057140754\n"
          ]
        }
      ]
    },
    {
      "cell_type": "markdown",
      "source": [
        "# Calculate Resp Rates With MA"
      ],
      "metadata": {
        "id": "SPOih7aRjpmF"
      }
    },
    {
      "cell_type": "code",
      "metadata": {
        "id": "3xVcizDyjxAq"
      },
      "source": [
        "optsignal = reshapeSignal(filtered)"
      ],
      "execution_count": null,
      "outputs": []
    },
    {
      "cell_type": "code",
      "source": [
        "reference = reshapeReference(refflow)"
      ],
      "metadata": {
        "id": "xmD1cm7vjxAr"
      },
      "execution_count": null,
      "outputs": []
    },
    {
      "cell_type": "code",
      "source": [
        "output_rates,refs = calcRates_with_findLocalMaximas_and_MA(optsignal,reference)"
      ],
      "metadata": {
        "id": "tUSQjf4Ij03Y"
      },
      "execution_count": null,
      "outputs": []
    },
    {
      "cell_type": "code",
      "source": [
        "errors = []\n",
        "for i in range(len(output_rates)):\n",
        "  errors.append(abs(output_rates[i]-refs[i]))\n",
        "print(\"Mean Absolute Error (MAE): \" + \"\\t\" + str(np.mean(errors)) + \"\\t\" + \" RPM\")\n",
        "print(\"Root Mean Squared Error (MAE): \" + \"\\t\" + str(RMSE(output_rates,refs)) + \"\\t\" + \" RPM\")"
      ],
      "metadata": {
        "colab": {
          "base_uri": "https://localhost:8080/"
        },
        "id": "zpB4zkzPee--",
        "outputId": "54c65f2b-70b9-434e-885b-cda01e3d9121"
      },
      "execution_count": null,
      "outputs": [
        {
          "output_type": "stream",
          "name": "stdout",
          "text": [
            "Mean Absolute Error (MAE): \t1.3314741552531515\t RPM\n",
            "Root Mean Squared Error (MAE): \t1.617265588866917\t RPM\n"
          ]
        }
      ]
    },
    {
      "cell_type": "code",
      "source": [
        ""
      ],
      "metadata": {
        "id": "m2fAOujHLxPx"
      },
      "execution_count": null,
      "outputs": []
    }
  ]
}